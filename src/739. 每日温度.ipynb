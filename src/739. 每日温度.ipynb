{
 "cells": [
  {
   "metadata": {},
   "cell_type": "markdown",
   "source": [
    "# 739. 每日温度\n",
    "中等\n",
    "\n",
    "\n",
    "提示\n",
    "给定一个整数数组 temperatures ，表示每天的温度，返回一个数组 answer ，其中 answer[i] 是指对于第 i 天，下一个更高温度出现在几天后。如果气温在这之后都不会升高，请在该位置用 0 来代替。\n",
    "\n",
    "\n",
    "- 示例 1:\n",
    "\n",
    "输入: temperatures = [73,74,75,71,69,72,76,73]\n",
    "输出: [1,1,4,2,1,1,0,0]\n",
    "- 示例 2:\n",
    "\n",
    "输入: temperatures = [30,40,50,60]\n",
    "输出: [1,1,1,0]\n",
    "- 示例 3:\n",
    "\n",
    "输入: temperatures = [30,60,90]\n",
    "输出: [1,1,0]\n",
    "\n",
    "\n",
    "提示：\n",
    "\n",
    "- 1 <= temperatures.length <= 105\n",
    "- 30 <= temperatures[i] <= 100"
   ],
   "id": "e2e5b7567d421fb5"
  },
  {
   "metadata": {},
   "cell_type": "markdown",
   "source": [
    "# 单调栈\n",
    "\n",
    "- 反向计算\n",
    "    - 栈中严格单调递减保存当前位置（前面元素可见的一系列越来越大的温度的位置）\n",
    "    - 当前元素大于栈顶元素，不断清理，知道遇到一个更大的值\n",
    "    - 当前位置的下一个元素即为栈顶元素"
   ],
   "id": "4a41e2e7705e9101"
  },
  {
   "metadata": {
    "ExecuteTime": {
     "end_time": "2025-05-17T07:32:18.754258Z",
     "start_time": "2025-05-17T07:32:18.746877Z"
    }
   },
   "cell_type": "code",
   "source": [
    "from typing import List\n",
    "\n",
    "class Solution:\n",
    "    def dailyTemperatures(self, temperatures: List[int]) -> List[int]:\n",
    "        n = len(temperatures)\n",
    "        # 使用list表示栈\n",
    "        stack = []\n",
    "        result = [0] * n\n",
    "        # 从最后一天开始，向前遍历\n",
    "        for i in range(n - 1, -1, -1):\n",
    "            t = temperatures[i]\n",
    "            # stack 以严格单调递减序列保留\n",
    "            # 如果当前位置存在一个更大值，后面的元素对前面元素不可见\n",
    "            # = 号表示当 当前元素 和 后面元素一样时，后面元素仍不可见\n",
    "            while stack and t >= temperatures[stack[-1]]:\n",
    "                stack.pop()\n",
    "            # 存在下一个更大的，则为栈顶元素（栈顶元素下标-当前元素下标）\n",
    "            if stack:\n",
    "                result[i] = stack[-1] - i\n",
    "            stack.append(i)\n",
    "            print(stack)\n",
    "        return result"
   ],
   "id": "ce200a5d442bf584",
   "outputs": [],
   "execution_count": 8
  },
  {
   "metadata": {},
   "cell_type": "markdown",
   "source": [
    "# 单调栈\n",
    "\n",
    "- 正向计算\n",
    "    - 栈中单调递减保存当前位置的值（还未找到下一个更大的温度的位置）\n",
    "    - 当前位置大于栈顶元素，则找到了一个更大的元素，则可以对stack中求解"
   ],
   "id": "f84ac580dc49886a"
  },
  {
   "metadata": {
    "ExecuteTime": {
     "end_time": "2025-05-17T04:39:07.417117Z",
     "start_time": "2025-05-17T04:39:07.414157Z"
    }
   },
   "cell_type": "code",
   "source": [
    "from typing import List\n",
    "\n",
    "class Solution:\n",
    "     def dailyTemperatures(self, temperatures: List[int]) -> List[int]:\n",
    "        n = len(temperatures)\n",
    "        # 使用list表示栈\n",
    "        stack = []\n",
    "        result = [0] * n\n",
    "        for i, t in enumerate(temperatures):\n",
    "            # stack 以单调递减序列保留，保留的是未计算的元素？\n",
    "            # 找到一个元素，前面的某些元素的最大值都是这个\n",
    "            while stack and t > temperatures[stack[-1]]:\n",
    "                j = stack.pop()\n",
    "                result[j] = i - j\n",
    "            stack.append(i)\n",
    "        return result\n"
   ],
   "id": "64eb60e0de8dce94",
   "outputs": [],
   "execution_count": 4
  },
  {
   "metadata": {
    "ExecuteTime": {
     "end_time": "2025-05-17T07:32:21.196962Z",
     "start_time": "2025-05-17T07:32:21.193813Z"
    }
   },
   "cell_type": "code",
   "source": [
    "if __name__ == '__main__':\n",
    "    print(Solution().dailyTemperatures([73, 74, 75, 71, 72, 76, 73]))\n",
    "    print(Solution().dailyTemperatures([30, 40, 50, 60]))\n",
    "    print(Solution().dailyTemperatures([30, 60, 90]))"
   ],
   "id": "99015ba9a84efe54",
   "outputs": [
    {
     "name": "stdout",
     "output_type": "stream",
     "text": [
      "[6]\n",
      "[5]\n",
      "[5, 4]\n",
      "[5, 4, 3]\n",
      "[5, 2]\n",
      "[5, 2, 1]\n",
      "[5, 2, 1, 0]\n",
      "[1, 1, 3, 1, 1, 0, 0]\n",
      "[3]\n",
      "[3, 2]\n",
      "[3, 2, 1]\n",
      "[3, 2, 1, 0]\n",
      "[1, 1, 1, 0]\n",
      "[2]\n",
      "[2, 1]\n",
      "[2, 1, 0]\n",
      "[1, 1, 0]\n"
     ]
    }
   ],
   "execution_count": 9
  }
 ],
 "metadata": {
  "kernelspec": {
   "display_name": "Python 3",
   "language": "python",
   "name": "python3"
  },
  "language_info": {
   "codemirror_mode": {
    "name": "ipython",
    "version": 2
   },
   "file_extension": ".py",
   "mimetype": "text/x-python",
   "name": "python",
   "nbconvert_exporter": "python",
   "pygments_lexer": "ipython2",
   "version": "2.7.6"
  }
 },
 "nbformat": 4,
 "nbformat_minor": 5
}
