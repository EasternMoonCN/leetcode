{
 "cells": [
  {
   "metadata": {},
   "cell_type": "markdown",
   "source": [
    "# 42. 接雨水\n",
    "给定 n 个非负整数表示每个宽度为 1 的柱子的高度图，计算按此排列的柱子，下雨之后能接多少雨水。\n",
    "\n",
    "- 示例 1：\n",
    "\n",
    "![接雨水](接雨水.png)\n",
    "\n",
    "输入：height = [0,1,0,2,1,0,1,3,2,1,2,1]\n",
    "\n",
    "输出：6\n",
    "\n",
    "解释：上面是由数组 [0,1,0,2,1,0,1,3,2,1,2,1] 表示的高度图，在这种情况下，可以接 6 个单位的雨水（蓝色部分表示雨水）。\n",
    "\n",
    "- 示例 2：\n",
    "\n",
    "输入：height = [4,2,0,3,2,5]\n",
    "\n",
    "输出：9\n",
    "\n",
    "提示：\n",
    "\n",
    "- n == height.length\n",
    "- 1 <= n <= 2 * 104\n",
    "- 0 <= height[i] <= 105"
   ],
   "id": "5efc95a57a12a1ec"
  },
  {
   "metadata": {},
   "cell_type": "markdown",
   "source": [
    "# 单调栈\n",
    "\n",
    "单调栈的做法相当于「横着」计算面积。"
   ],
   "id": "f364a59455ea9d5e"
  },
  {
   "cell_type": "code",
   "id": "initial_id",
   "metadata": {
    "collapsed": true,
    "ExecuteTime": {
     "end_time": "2025-05-17T07:17:10.035316Z",
     "start_time": "2025-05-17T07:17:10.026083Z"
    }
   },
   "source": [
    "from typing import List\n",
    "\n",
    "class Solution:\n",
    "    def trap(self, height: List[int]) -> int:\n",
    "        # 严格单调递减\n",
    "        stack = []\n",
    "        res = 0\n",
    "        for i, h in enumerate(height):\n",
    "            # 循环计算stack中每个元素的面积\n",
    "            while stack and h >= height[stack[-1]]:\n",
    "                # 获取前一个能盛水位置的高\n",
    "                bottom_h = height[stack.pop()]\n",
    "                if not stack:\n",
    "                    break\n",
    "                # bottom_h位置左边 和 h 的最小值决定了边界，减去当前位置\n",
    "                dh = min(height[stack[-1]], h) - bottom_h\n",
    "                res += dh * (i - stack[-1] - 1)\n",
    "            stack.append(i)\n",
    "        return res"
   ],
   "outputs": [],
   "execution_count": 1
  },
  {
   "metadata": {
    "ExecuteTime": {
     "end_time": "2025-05-17T07:17:38.476722Z",
     "start_time": "2025-05-17T07:17:38.473458Z"
    }
   },
   "cell_type": "code",
   "source": [
    "if __name__ == '__main__':\n",
    "    print(Solution().trap([0,1,0,2,1,0,1,3,2,1,2,1]))\n",
    "    print(Solution().trap([4, 2, 0, 3, 2, 5]))"
   ],
   "id": "b806b1fa69d29400",
   "outputs": [
    {
     "name": "stdout",
     "output_type": "stream",
     "text": [
      "6\n",
      "9\n"
     ]
    }
   ],
   "execution_count": 3
  }
 ],
 "metadata": {
  "kernelspec": {
   "display_name": "Python 3",
   "language": "python",
   "name": "python3"
  },
  "language_info": {
   "codemirror_mode": {
    "name": "ipython",
    "version": 2
   },
   "file_extension": ".py",
   "mimetype": "text/x-python",
   "name": "python",
   "nbconvert_exporter": "python",
   "pygments_lexer": "ipython2",
   "version": "2.7.6"
  }
 },
 "nbformat": 4,
 "nbformat_minor": 5
}
